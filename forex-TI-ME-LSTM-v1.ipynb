{
 "cells": [
  {
   "cell_type": "code",
   "execution_count": 1,
   "id": "fe1c2562-b606-41d9-b1af-0200c8661731",
   "metadata": {},
   "outputs": [
    {
     "name": "stderr",
     "output_type": "stream",
     "text": [
      "2023-12-22 19:38:08.207447: I tensorflow/core/util/port.cc:113] oneDNN custom operations are on. You may see slightly different numerical results due to floating-point round-off errors from different computation orders. To turn them off, set the environment variable `TF_ENABLE_ONEDNN_OPTS=0`.\n",
      "2023-12-22 19:38:08.245795: E external/local_xla/xla/stream_executor/cuda/cuda_dnn.cc:9261] Unable to register cuDNN factory: Attempting to register factory for plugin cuDNN when one has already been registered\n",
      "2023-12-22 19:38:08.245819: E external/local_xla/xla/stream_executor/cuda/cuda_fft.cc:607] Unable to register cuFFT factory: Attempting to register factory for plugin cuFFT when one has already been registered\n",
      "2023-12-22 19:38:08.246742: E external/local_xla/xla/stream_executor/cuda/cuda_blas.cc:1515] Unable to register cuBLAS factory: Attempting to register factory for plugin cuBLAS when one has already been registered\n",
      "2023-12-22 19:38:08.252774: I tensorflow/core/platform/cpu_feature_guard.cc:182] This TensorFlow binary is optimized to use available CPU instructions in performance-critical operations.\n",
      "To enable the following instructions: AVX2 AVX512F AVX512_VNNI FMA, in other operations, rebuild TensorFlow with the appropriate compiler flags.\n",
      "2023-12-22 19:38:08.891133: W tensorflow/compiler/tf2tensorrt/utils/py_utils.cc:38] TF-TRT Warning: Could not find TensorRT\n"
     ]
    },
    {
     "name": "stdout",
     "output_type": "stream",
     "text": [
      "Num GPUs Available:  1\n",
      "PhysicalDevice(name='/physical_device:GPU:0', device_type='GPU')\n"
     ]
    }
   ],
   "source": [
    "import tensorflow as tf\n",
    "print(\"Num GPUs Available: \", len(tf.config.list_physical_devices('GPU')))\n",
    "\n",
    "gpu_devices = tf.config.list_physical_devices('GPU')\n",
    "for device in gpu_devices:\n",
    "    print(device)\n",
    "    tf.config.experimental.set_memory_growth(device, True)"
   ]
  },
  {
   "cell_type": "code",
   "execution_count": 2,
   "id": "18cdbb97-1a82-44f9-8033-ab0739c7bb0e",
   "metadata": {},
   "outputs": [],
   "source": [
    "import numpy as np\n",
    "import matplotlib.pyplot as plt\n",
    "from pandas import read_csv\n",
    "import pandas as pd\n",
    "import math\n",
    "import tensorflow as tf\n",
    "from tensorflow import keras\n",
    "from tensorflow.keras.models import Sequential\n",
    "from tensorflow.keras.layers import Dense\n",
    "from tensorflow.keras.layers import LSTM\n",
    "from sklearn.preprocessing import MinMaxScaler\n",
    "from sklearn.metrics import mean_squared_error\n",
    "from Threshold import get_threshold\n",
    "\n",
    "#MODEL_T = \"models/lstm_technical_eurusd.h5\"\n",
    "#MODEL_F = \"models/fundamental_model_eurusd_300epochs.h5\"\n",
    "\n",
    "MODEL_T = \"./models/prob_model.keras\"\n",
    "MODEL_F = \"./models/fundamental_model_eurusd_300epochs.keras\"\n",
    "\n",
    "# data is concatenated, need to separate into technical and fundamental datasets\n",
    "DATA = 'data/technical+fundamental_data_eurusd.csv'\n",
    "\n",
    "dataframe = read_csv(DATA, engine='python')\n",
    "dataset = dataframe.values\n",
    "dataset = dataset.astype('float32')"
   ]
  },
  {
   "cell_type": "code",
   "execution_count": 3,
   "id": "ac3cd8b9-acd4-4a9d-9dda-e8fedbe67620",
   "metadata": {},
   "outputs": [
    {
     "name": "stderr",
     "output_type": "stream",
     "text": [
      "2023-12-22 19:38:10.333890: I tensorflow/core/common_runtime/gpu/gpu_device.cc:1929] Created device /job:localhost/replica:0/task:0/device:GPU:0 with 398 MB memory:  -> device: 0, name: NVIDIA A100 80GB PCIe, pci bus id: 0000:00:0d.0, compute capability: 8.0\n",
      "2023-12-22 19:38:10.405592: I external/local_tsl/tsl/platform/default/subprocess.cc:304] Start cannot spawn child process: No such file or directory\n"
     ]
    },
    {
     "name": "stdout",
     "output_type": "stream",
     "text": [
      "[[[0.49307704 0.47204375 0.5363327  0.37815517 0.48376656 0.49418122\n",
      "   0.49042606 0.4873321  0.44778994]\n",
      "  [0.49929738 0.4744897  0.5436644  0.49361697 0.54172146 0.5418774\n",
      "   0.48972416 0.4870398  0.4477688 ]\n",
      "  [0.4987905  0.4766085  0.5493674  0.44920188 0.47193283 0.53767693\n",
      "   0.48734975 0.48725724 0.45766506]\n",
      "  [0.5141337  0.48138642 0.56723213 0.5536479  0.58895516 0.64903027\n",
      "   0.48584223 0.48775363 0.54564106]\n",
      "  [0.51118493 0.48494983 0.57883966 0.43321863 0.54870033 0.6211824\n",
      "   0.4835186  0.48872232 0.5627965 ]]\n",
      "\n",
      " [[0.49929738 0.4744897  0.5436644  0.49361697 0.54172146 0.5418774\n",
      "   0.48972416 0.4870398  0.4477688 ]\n",
      "  [0.4987905  0.4766085  0.5493674  0.44920188 0.47193283 0.53767693\n",
      "   0.48734975 0.48725724 0.45766506]\n",
      "  [0.5141337  0.48138642 0.56723213 0.5536479  0.58895516 0.64903027\n",
      "   0.48584223 0.48775363 0.54564106]\n",
      "  [0.51118493 0.48494983 0.57883966 0.43321863 0.54870033 0.6211824\n",
      "   0.4835186  0.48872232 0.5627965 ]\n",
      "  [0.49551916 0.48498368 0.57457614 0.3497792  0.48214826 0.4905967\n",
      "   0.4797175  0.4900198  0.48977906]]\n",
      "\n",
      " [[0.4987905  0.4766085  0.5493674  0.44920188 0.47193283 0.53767693\n",
      "   0.48734975 0.48725724 0.45766506]\n",
      "  [0.5141337  0.48138642 0.56723213 0.5536479  0.58895516 0.64903027\n",
      "   0.48584223 0.48775363 0.54564106]\n",
      "  [0.51118493 0.48494983 0.57883966 0.43321863 0.54870033 0.6211824\n",
      "   0.4835186  0.48872232 0.5627965 ]\n",
      "  [0.49551916 0.48498368 0.57457614 0.3497792  0.48214826 0.4905967\n",
      "   0.4797175  0.4900198  0.48977906]\n",
      "  [0.49579573 0.4855702  0.5715105  0.45436507 0.4160008  0.49293733\n",
      "   0.47713852 0.4905169  0.46169093]]\n",
      "\n",
      " [[0.5141337  0.48138642 0.56723213 0.5536479  0.58895516 0.64903027\n",
      "   0.48584223 0.48775363 0.54564106]\n",
      "  [0.51118493 0.48494983 0.57883966 0.43321863 0.54870033 0.6211824\n",
      "   0.4835186  0.48872232 0.5627965 ]\n",
      "  [0.49551916 0.48498368 0.57457614 0.3497792  0.48214826 0.4905967\n",
      "   0.4797175  0.4900198  0.48977906]\n",
      "  [0.49579573 0.4855702  0.5715105  0.45436507 0.4160008  0.49293733\n",
      "   0.47713852 0.4905169  0.46169093]\n",
      "  [0.48706436 0.48463225 0.5617437  0.3949407  0.39061394 0.42682207\n",
      "   0.47488332 0.49043202 0.40862405]]\n",
      "\n",
      " [[0.51118493 0.48494983 0.57883966 0.43321863 0.54870033 0.6211824\n",
      "   0.4835186  0.48872232 0.5627965 ]\n",
      "  [0.49551916 0.48498368 0.57457614 0.3497792  0.48214826 0.4905967\n",
      "   0.4797175  0.4900198  0.48977906]\n",
      "  [0.49579573 0.4855702  0.5715105  0.45436507 0.4160008  0.49293733\n",
      "   0.47713852 0.4905169  0.46169093]\n",
      "  [0.48706436 0.48463225 0.5617437  0.3949407  0.39061394 0.42682207\n",
      "   0.47488332 0.49043202 0.40862405]\n",
      "  [0.48842335 0.4845717  0.55543417 0.46153697 0.46535856 0.44043452\n",
      "   0.47032428 0.49177957 0.41947794]]]\n",
      "(563, 5, 9)\n"
     ]
    }
   ],
   "source": [
    "# cut off first 20 values\n",
    "dataset = dataset[20:]\n",
    "dataset = dataset[:, 1:]\n",
    "\n",
    "# normalize the dataset \n",
    "scaler = MinMaxScaler(feature_range=(0, 1))\n",
    "dataset = scaler.fit_transform(dataset)\n",
    "\n",
    "# split into two\n",
    "dataset_t = dataset[:,:9]\n",
    "dataset_f = dataset[:,[0,9,10,11,12,13,14,15]]\n",
    "\n",
    "def create_dataset(dataset, look_back=1):\n",
    "    dataX, dataY = [], []\n",
    "    for i in range(len(dataset)-look_back-1):\n",
    "        a = dataset[i:(i+look_back), :]\n",
    "        dataX.append(a)\n",
    "        dataY.append(dataset[i + look_back, 0])\n",
    "    return np.array(dataX), np.array(dataY)\n",
    "\n",
    "def train_test_split(dataset):\n",
    "    n_cols = dataset.shape[1]\n",
    "\n",
    "    train_size = int(len(dataset) * 0.8)\n",
    "    test_size = len(dataset) - train_size\n",
    "    train, test = dataset[0:train_size, :], dataset[train_size:len(dataset), :]\n",
    "\n",
    "    # convert an array of values into a dataset matrix\n",
    "\n",
    "    look_back = 5\n",
    "    trainX, trainY = create_dataset(train, look_back)\n",
    "    testX, testY = create_dataset(test, look_back)\n",
    "\n",
    "    # reshape input to be [samples, time steps, features]\n",
    "    trainX = np.reshape(trainX, (trainX.shape[0], look_back, n_cols))\n",
    "    testX = np.reshape(testX, (testX.shape[0], look_back, n_cols))\n",
    "\n",
    "    return trainX, testX, testY\n",
    "\n",
    "_, t_testX, testY = train_test_split(dataset_t)\n",
    "_, f_testX, _ = train_test_split(dataset_f)\n",
    "\n",
    "model_t = tf.keras.models.load_model(MODEL_T)\n",
    "model_f = tf.keras.models.load_model(MODEL_F)\n",
    "print(t_testX[0:5])\n",
    "print(t_testX.shape)\n"
   ]
  },
  {
   "cell_type": "code",
   "execution_count": 4,
   "id": "bbfb2281-1ebf-49fb-a087-560564b2e98c",
   "metadata": {
    "editable": true,
    "slideshow": {
     "slide_type": ""
    },
    "tags": []
   },
   "outputs": [
    {
     "name": "stdout",
     "output_type": "stream",
     "text": [
      "18/18 [==============================] - 0s 2ms/step\n"
     ]
    },
    {
     "name": "stderr",
     "output_type": "stream",
     "text": [
      "2023-12-22 19:38:11.354861: I external/local_xla/xla/stream_executor/cuda/cuda_dnn.cc:454] Loaded cuDNN version 8904\n"
     ]
    },
    {
     "name": "stdout",
     "output_type": "stream",
     "text": [
      "18/18 [==============================] - 0s 1ms/step\n",
      "testPredict shape (563,)\n"
     ]
    }
   ],
   "source": [
    "# Inverse scale the data\n",
    "def inverse_transform(arr):\n",
    "    num_cols_full_dataset = 16\n",
    "    extended = np.zeros((len(arr), num_cols_full_dataset))\n",
    "    extended[:, 0] = arr\n",
    "    return scaler.inverse_transform(extended)[:, 0]\n",
    "\n",
    "def decision(diff):\n",
    "    if diff > threshold:\n",
    "        return \"I\"\n",
    "    if -diff > threshold:\n",
    "        return \"D\"\n",
    "    else:\n",
    "        return \"N\"\n",
    "\n",
    "def union(a, b):\n",
    "    if a == \"I\" and b == \"I\":\n",
    "        return \"C\"\n",
    "    if a == \"D\" and b == \"D\":\n",
    "        return \"C\"\n",
    "    if a == \"N\" or b == \"N\":\n",
    "        return \"N\"\n",
    "    else:\n",
    "        return \"F\"\n",
    "    \n",
    "def combination(t_decision, f_decision, t_diff, f_diff, t_loss, f_loss):\n",
    "    if t_decision == \"N\" or f_decision == \"N\":\n",
    "        return \"N\"\n",
    "    if t_decision == f_decision:\n",
    "        return t_decision\n",
    "    else:\n",
    "        # # if conflict, return lowest change\n",
    "        # if abs(t_diff) > abs(f_diff):\n",
    "        #     return f_decision\n",
    "        # else: \n",
    "        #     return t_decision\n",
    "        \n",
    "        # if conflict, return lowest loss in previous step\n",
    "        if np.isnan(t_loss) or np.isnan(f_loss):\n",
    "            return t_decision\n",
    "        if abs(t_loss) == abs(f_loss):\n",
    "            return t_decision\n",
    "        else:\n",
    "            if abs(t_loss) < abs(f_loss):\n",
    "                return t_decision\n",
    "            else:\n",
    "                return f_decision\n",
    "\n",
    "testPredict_t = model_t.predict(t_testX)\n",
    "testPredict_t = np.squeeze(testPredict_t)\n",
    "\n",
    "testPredict_f = model_f.predict(f_testX)\n",
    "testPredict_f = np.squeeze(testPredict_f)\n",
    "\n",
    "testPredict_t = inverse_transform(testPredict_t)\n",
    "testPredict_f = inverse_transform(testPredict_f)\n",
    "print(\"testPredict shape\", testPredict_f.shape)\n",
    "\n",
    "testY = inverse_transform(testY)\n",
    "\n",
    "# threshold and make decisions\n",
    "threshold = get_threshold(dataframe[\"Close\"]) * 3"
   ]
  },
  {
   "cell_type": "code",
   "execution_count": 5,
   "id": "b41b2a76-a706-4801-a1df-fdc90f2e5c31",
   "metadata": {
    "editable": true,
    "slideshow": {
     "slide_type": ""
    },
    "tags": []
   },
   "outputs": [
    {
     "name": "stdout",
     "output_type": "stream",
     "text": [
      "      actual  technical  fundamental t decision f decision correct t union  \\\n",
      "0    1.17440   1.180364     1.175430          N          N       I       N   \n",
      "1    1.17452   1.173231     1.168663          N          N       D       N   \n",
      "2    1.17073   1.173017     1.169317          N          N       I       N   \n",
      "3    1.17132   1.169923     1.165585          N          N       I       N   \n",
      "4    1.17695   1.169896     1.166185          D          D       I       F   \n",
      "..       ...        ...          ...        ...        ...     ...     ...   \n",
      "558  1.05325   1.059434     1.041729          I          D       D       F   \n",
      "559  1.04877   1.058887     1.043470          I          N       D       F   \n",
      "560  1.04629   1.054300     1.038943          I          D       I       C   \n",
      "561  1.05029   1.053479     1.035812          N          D       I       N   \n",
      "562  1.05540   1.058134     1.037738          N          D       N       N   \n",
      "\n",
      "    f union    t loss    f loss    t diff    f diff combination union  \n",
      "0         N       NaN       NaN  0.005964  0.001030           N     N  \n",
      "1         N  0.005844  0.000910 -0.001289 -0.005857           N     N  \n",
      "2         N  0.002501 -0.002067  0.002287 -0.001413           N     N  \n",
      "3         N  0.001697 -0.002003 -0.001397 -0.005735           N     N  \n",
      "4         F -0.007027 -0.011365 -0.007054 -0.010765           D     F  \n",
      "..      ...       ...       ...       ...       ...         ...   ...  \n",
      "558       C -0.005054 -0.022800  0.006184 -0.011520           I     F  \n",
      "559       N  0.010664 -0.007040  0.010117 -0.005300           N     N  \n",
      "560       F  0.012597 -0.002820  0.008010 -0.007347           D     F  \n",
      "561       F  0.004010 -0.011347  0.003189 -0.014478           N     N  \n",
      "562       N -0.001921 -0.019588  0.002734 -0.017662           N     N  \n",
      "\n",
      "[563 rows x 14 columns]\n"
     ]
    }
   ],
   "source": [
    "table = pd.DataFrame([testY, testPredict_t, testPredict_f]).transpose()\n",
    "table.columns = [\"actual\", \"technical\", \"fundamental\"]\n",
    "table[\"t decision\"] = (table.technical - table.actual).apply(decision)\n",
    "table[\"f decision\"] = (table.fundamental - table.actual).apply(decision)\n",
    "table[\"correct\"] = table[\"actual\"].diff(\n",
    ").shift(-1).apply(lambda x: \"I\" if x > 0 else \"D\" if x < 0 else \"N\")\n",
    "table[\"t union\"] = table.apply(lambda x: union(\n",
    "    x[\"t decision\"], x[\"correct\"]), axis=1)\n",
    "table[\"f union\"] = table.apply(lambda x: union(\n",
    "    x[\"f decision\"], x[\"correct\"]), axis=1)\n",
    "table[\"t loss\"] = table.technical.shift(1) - table.actual\n",
    "table[\"f loss\"] = table.fundamental.shift(1) - table.actual\n",
    "table[\"t diff\"] = table.technical - table.actual\n",
    "table[\"f diff\"] = table.fundamental - table.actual\n",
    "table[\"combination\"]  = table.apply(lambda x: combination(\n",
    "    x[\"t decision\"], x[\"f decision\"], x[\"t diff\"], x[\"f diff\"], x[\"t loss\"], x[\"f loss\"]), axis=1)\n",
    "\n",
    "table[\"union\"] = table.apply(lambda x: union(\n",
    "    x[\"combination\"], x[\"correct\"]), axis=1)\n",
    "\n",
    "print(table)"
   ]
  },
  {
   "cell_type": "code",
   "execution_count": 6,
   "id": "08487e85-cc35-4f76-b0b2-35fb962421ce",
   "metadata": {},
   "outputs": [
    {
     "name": "stdout",
     "output_type": "stream",
     "text": [
      "       counts  frequency\n",
      "union                   \n",
      "N         450   0.799290\n",
      "F          60   0.106572\n",
      "C          53   0.094139\n"
     ]
    }
   ],
   "source": [
    "counts = table[\"union\"].value_counts()\n",
    "frequency = table[\"union\"].value_counts(normalize=True)\n",
    "print(pd.DataFrame({\"counts\": counts, \"frequency\": frequency}))"
   ]
  },
  {
   "cell_type": "code",
   "execution_count": 7,
   "id": "dd6de832-8eaa-4a57-8de5-b3f194a2c760",
   "metadata": {},
   "outputs": [
    {
     "data": {
      "image/png": "[encoded data removed]",
      "text/plain": [
       "<Figure size 640x480 with 1 Axes>"
      ]
     },
     "metadata": {},
     "output_type": "display_data"
    }
   ],
   "source": [
    "# shift predictions up by one\n",
    "testPredict_t = np.delete(testPredict_t, -1)\n",
    "testPredict_f = np.delete(testPredict_f, -1)\n",
    "testY = np.delete(testY, 0)\n",
    "\n",
    "# Plot results\n",
    "plt.plot(testPredict_t, color=\"blue\")\n",
    "plt.plot(testPredict_f, color=\"green\")\n",
    "plt.plot(testY, color=\"red\")\n",
    "plt.savefig(\"tmp/ti-me-lstm.png\")\n",
    "plt.show()"
   ]
  },
  {
   "cell_type": "code",
   "execution_count": null,
   "id": "053f9b1d-69f0-4715-a60d-1fd4f436e6ec",
   "metadata": {
    "editable": true,
    "slideshow": {
     "slide_type": ""
    },
    "tags": []
   },
   "outputs": [],
   "source": []
  }
 ],
 "metadata": {
  "kernelspec": {
   "display_name": "gpu-py39",
   "language": "python",
   "name": "gpu-py39"
  },
  "language_info": {
   "codemirror_mode": {
    "name": "ipython",
    "version": 3
   },
   "file_extension": ".py",
   "mimetype": "text/x-python",
   "name": "python",
   "nbconvert_exporter": "python",
   "pygments_lexer": "ipython3",
   "version": "3.9.18"
  }
 },
 "nbformat": 4,
 "nbformat_minor": 5
}
